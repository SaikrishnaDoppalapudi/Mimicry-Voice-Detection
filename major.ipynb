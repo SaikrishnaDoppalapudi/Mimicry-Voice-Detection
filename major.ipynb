{
  "nbformat": 4,
  "nbformat_minor": 0,
  "metadata": {
    "colab": {
      "name": "major.ipynb",
      "provenance": [],
      "collapsed_sections": []
    },
    "kernelspec": {
      "name": "python3",
      "display_name": "Python 3"
    },
    "language_info": {
      "name": "python"
    }
  },
  "cells": [
    {
      "cell_type": "code",
      "metadata": {
        "colab": {
          "base_uri": "https://localhost:8080/"
        },
        "id": "jvq1PQq-TlFf",
        "outputId": "8f4c7948-8b99-4c41-d531-78022fff127b"
      },
      "source": [
        "!pip install librosa"
      ],
      "execution_count": 1,
      "outputs": [
        {
          "output_type": "stream",
          "text": [
            "Requirement already satisfied: librosa in /usr/local/lib/python3.7/dist-packages (0.8.0)\n",
            "Requirement already satisfied: joblib>=0.14 in /usr/local/lib/python3.7/dist-packages (from librosa) (1.0.1)\n",
            "Requirement already satisfied: scikit-learn!=0.19.0,>=0.14.0 in /usr/local/lib/python3.7/dist-packages (from librosa) (0.22.2.post1)\n",
            "Requirement already satisfied: numba>=0.43.0 in /usr/local/lib/python3.7/dist-packages (from librosa) (0.51.2)\n",
            "Requirement already satisfied: resampy>=0.2.2 in /usr/local/lib/python3.7/dist-packages (from librosa) (0.2.2)\n",
            "Requirement already satisfied: audioread>=2.0.0 in /usr/local/lib/python3.7/dist-packages (from librosa) (2.1.9)\n",
            "Requirement already satisfied: soundfile>=0.9.0 in /usr/local/lib/python3.7/dist-packages (from librosa) (0.10.3.post1)\n",
            "Requirement already satisfied: pooch>=1.0 in /usr/local/lib/python3.7/dist-packages (from librosa) (1.3.0)\n",
            "Requirement already satisfied: decorator>=3.0.0 in /usr/local/lib/python3.7/dist-packages (from librosa) (4.4.2)\n",
            "Requirement already satisfied: scipy>=1.0.0 in /usr/local/lib/python3.7/dist-packages (from librosa) (1.4.1)\n",
            "Requirement already satisfied: numpy>=1.15.0 in /usr/local/lib/python3.7/dist-packages (from librosa) (1.19.5)\n",
            "Requirement already satisfied: setuptools in /usr/local/lib/python3.7/dist-packages (from numba>=0.43.0->librosa) (56.1.0)\n",
            "Requirement already satisfied: llvmlite<0.35,>=0.34.0.dev0 in /usr/local/lib/python3.7/dist-packages (from numba>=0.43.0->librosa) (0.34.0)\n",
            "Requirement already satisfied: six>=1.3 in /usr/local/lib/python3.7/dist-packages (from resampy>=0.2.2->librosa) (1.15.0)\n",
            "Requirement already satisfied: cffi>=1.0 in /usr/local/lib/python3.7/dist-packages (from soundfile>=0.9.0->librosa) (1.14.5)\n",
            "Requirement already satisfied: appdirs in /usr/local/lib/python3.7/dist-packages (from pooch>=1.0->librosa) (1.4.4)\n",
            "Requirement already satisfied: packaging in /usr/local/lib/python3.7/dist-packages (from pooch>=1.0->librosa) (20.9)\n",
            "Requirement already satisfied: requests in /usr/local/lib/python3.7/dist-packages (from pooch>=1.0->librosa) (2.23.0)\n",
            "Requirement already satisfied: pycparser in /usr/local/lib/python3.7/dist-packages (from cffi>=1.0->soundfile>=0.9.0->librosa) (2.20)\n",
            "Requirement already satisfied: pyparsing>=2.0.2 in /usr/local/lib/python3.7/dist-packages (from packaging->pooch>=1.0->librosa) (2.4.7)\n",
            "Requirement already satisfied: idna<3,>=2.5 in /usr/local/lib/python3.7/dist-packages (from requests->pooch>=1.0->librosa) (2.10)\n",
            "Requirement already satisfied: urllib3!=1.25.0,!=1.25.1,<1.26,>=1.21.1 in /usr/local/lib/python3.7/dist-packages (from requests->pooch>=1.0->librosa) (1.24.3)\n",
            "Requirement already satisfied: certifi>=2017.4.17 in /usr/local/lib/python3.7/dist-packages (from requests->pooch>=1.0->librosa) (2020.12.5)\n",
            "Requirement already satisfied: chardet<4,>=3.0.2 in /usr/local/lib/python3.7/dist-packages (from requests->pooch>=1.0->librosa) (3.0.4)\n"
          ],
          "name": "stdout"
        }
      ]
    },
    {
      "cell_type": "code",
      "metadata": {
        "id": "bYyHfT6hc8pl"
      },
      "source": [
        "import matplotlib.pyplot as plt\n",
        "import matplotlib.pyplot as plt1\n",
        "%matplotlib inline"
      ],
      "execution_count": 2,
      "outputs": []
    },
    {
      "cell_type": "code",
      "metadata": {
        "id": "OKNJCSw0dAE-"
      },
      "source": [
        "import librosa\n",
        "import librosa.display\n",
        "import pandas as pd"
      ],
      "execution_count": 3,
      "outputs": []
    },
    {
      "cell_type": "code",
      "metadata": {
        "id": "DgjqVacGdEXs",
        "colab": {
          "base_uri": "https://localhost:8080/"
        },
        "outputId": "3247b2d8-cecd-4169-ca0a-5b132a09dd91"
      },
      "source": [
        "from google.colab import drive\n",
        "drive.mount('/content/drive/')"
      ],
      "execution_count": 4,
      "outputs": [
        {
          "output_type": "stream",
          "text": [
            "Drive already mounted at /content/drive/; to attempt to forcibly remount, call drive.mount(\"/content/drive/\", force_remount=True).\n"
          ],
          "name": "stdout"
        }
      ]
    },
    {
      "cell_type": "code",
      "metadata": {
        "id": "DX7CDeRMcCkk"
      },
      "source": [
        "metadata = pd.read_csv('/content/drive/My Drive/Major/Dataset/celeb.csv')"
      ],
      "execution_count": 5,
      "outputs": []
    },
    {
      "cell_type": "code",
      "metadata": {
        "colab": {
          "base_uri": "https://localhost:8080/",
          "height": 359
        },
        "id": "4HdNnvStc_zV",
        "outputId": "b5064ee9-c504-4f10-982b-f9e893f14602"
      },
      "source": [
        "metadata.head(10)"
      ],
      "execution_count": 6,
      "outputs": [
        {
          "output_type": "execute_result",
          "data": {
            "text/html": [
              "<div>\n",
              "<style scoped>\n",
              "    .dataframe tbody tr th:only-of-type {\n",
              "        vertical-align: middle;\n",
              "    }\n",
              "\n",
              "    .dataframe tbody tr th {\n",
              "        vertical-align: top;\n",
              "    }\n",
              "\n",
              "    .dataframe thead th {\n",
              "        text-align: right;\n",
              "    }\n",
              "</style>\n",
              "<table border=\"1\" class=\"dataframe\">\n",
              "  <thead>\n",
              "    <tr style=\"text-align: right;\">\n",
              "      <th></th>\n",
              "      <th>slice_file_name</th>\n",
              "      <th>fsID</th>\n",
              "      <th>start</th>\n",
              "      <th>end</th>\n",
              "      <th>salience</th>\n",
              "      <th>folder</th>\n",
              "      <th>classID</th>\n",
              "      <th>class</th>\n",
              "    </tr>\n",
              "  </thead>\n",
              "  <tbody>\n",
              "    <tr>\n",
              "      <th>0</th>\n",
              "      <td>co1.wav</td>\n",
              "      <td>co1</td>\n",
              "      <td>0</td>\n",
              "      <td>5</td>\n",
              "      <td>1</td>\n",
              "      <td>1</td>\n",
              "      <td>1</td>\n",
              "      <td>Chiranjeevi_original</td>\n",
              "    </tr>\n",
              "    <tr>\n",
              "      <th>1</th>\n",
              "      <td>co2.wav</td>\n",
              "      <td>co2</td>\n",
              "      <td>0</td>\n",
              "      <td>5</td>\n",
              "      <td>1</td>\n",
              "      <td>1</td>\n",
              "      <td>1</td>\n",
              "      <td>Chiranjeevi_original</td>\n",
              "    </tr>\n",
              "    <tr>\n",
              "      <th>2</th>\n",
              "      <td>co3.wav</td>\n",
              "      <td>co3</td>\n",
              "      <td>0</td>\n",
              "      <td>5</td>\n",
              "      <td>1</td>\n",
              "      <td>1</td>\n",
              "      <td>1</td>\n",
              "      <td>Chiranjeevi_original</td>\n",
              "    </tr>\n",
              "    <tr>\n",
              "      <th>3</th>\n",
              "      <td>co4.wav</td>\n",
              "      <td>co4</td>\n",
              "      <td>0</td>\n",
              "      <td>5</td>\n",
              "      <td>1</td>\n",
              "      <td>1</td>\n",
              "      <td>1</td>\n",
              "      <td>Chiranjeevi_original</td>\n",
              "    </tr>\n",
              "    <tr>\n",
              "      <th>4</th>\n",
              "      <td>co5.wav</td>\n",
              "      <td>co5</td>\n",
              "      <td>0</td>\n",
              "      <td>5</td>\n",
              "      <td>1</td>\n",
              "      <td>1</td>\n",
              "      <td>1</td>\n",
              "      <td>Chiranjeevi_original</td>\n",
              "    </tr>\n",
              "    <tr>\n",
              "      <th>5</th>\n",
              "      <td>co6.wav</td>\n",
              "      <td>co6</td>\n",
              "      <td>0</td>\n",
              "      <td>5</td>\n",
              "      <td>1</td>\n",
              "      <td>1</td>\n",
              "      <td>1</td>\n",
              "      <td>Chiranjeevi_original</td>\n",
              "    </tr>\n",
              "    <tr>\n",
              "      <th>6</th>\n",
              "      <td>co7.wav</td>\n",
              "      <td>co7</td>\n",
              "      <td>0</td>\n",
              "      <td>5</td>\n",
              "      <td>1</td>\n",
              "      <td>1</td>\n",
              "      <td>1</td>\n",
              "      <td>Chiranjeevi_original</td>\n",
              "    </tr>\n",
              "    <tr>\n",
              "      <th>7</th>\n",
              "      <td>co8.wav</td>\n",
              "      <td>co8</td>\n",
              "      <td>0</td>\n",
              "      <td>5</td>\n",
              "      <td>1</td>\n",
              "      <td>1</td>\n",
              "      <td>1</td>\n",
              "      <td>Chiranjeevi_original</td>\n",
              "    </tr>\n",
              "    <tr>\n",
              "      <th>8</th>\n",
              "      <td>co9.wav</td>\n",
              "      <td>co9</td>\n",
              "      <td>0</td>\n",
              "      <td>5</td>\n",
              "      <td>1</td>\n",
              "      <td>1</td>\n",
              "      <td>1</td>\n",
              "      <td>Chiranjeevi_original</td>\n",
              "    </tr>\n",
              "    <tr>\n",
              "      <th>9</th>\n",
              "      <td>co10.wav</td>\n",
              "      <td>c10</td>\n",
              "      <td>0</td>\n",
              "      <td>5</td>\n",
              "      <td>1</td>\n",
              "      <td>1</td>\n",
              "      <td>1</td>\n",
              "      <td>Chiranjeevi_original</td>\n",
              "    </tr>\n",
              "  </tbody>\n",
              "</table>\n",
              "</div>"
            ],
            "text/plain": [
              "  slice_file_name fsID  start  ...  folder  classID                 class\n",
              "0         co1.wav  co1      0  ...       1        1  Chiranjeevi_original\n",
              "1         co2.wav  co2      0  ...       1        1  Chiranjeevi_original\n",
              "2         co3.wav  co3      0  ...       1        1  Chiranjeevi_original\n",
              "3         co4.wav  co4      0  ...       1        1  Chiranjeevi_original\n",
              "4         co5.wav  co5      0  ...       1        1  Chiranjeevi_original\n",
              "5         co6.wav  co6      0  ...       1        1  Chiranjeevi_original\n",
              "6         co7.wav  co7      0  ...       1        1  Chiranjeevi_original\n",
              "7         co8.wav  co8      0  ...       1        1  Chiranjeevi_original\n",
              "8         co9.wav  co9      0  ...       1        1  Chiranjeevi_original\n",
              "9        co10.wav  c10      0  ...       1        1  Chiranjeevi_original\n",
              "\n",
              "[10 rows x 8 columns]"
            ]
          },
          "metadata": {
            "tags": []
          },
          "execution_count": 6
        }
      ]
    },
    {
      "cell_type": "code",
      "metadata": {
        "colab": {
          "base_uri": "https://localhost:8080/"
        },
        "id": "CjFaom_AdJ77",
        "outputId": "b7c2c425-3829-46c4-91cc-e7d35138e7aa"
      },
      "source": [
        "metadata['class'].value_counts()"
      ],
      "execution_count": 7,
      "outputs": [
        {
          "output_type": "execute_result",
          "data": {
            "text/plain": [
              "ntr_original            40\n",
              "Chiranjeevi_original    40\n",
              "ntr_spoof               30\n",
              "Chiranjeevi_spoof       30\n",
              "Name: class, dtype: int64"
            ]
          },
          "metadata": {
            "tags": []
          },
          "execution_count": 7
        }
      ]
    },
    {
      "cell_type": "code",
      "metadata": {
        "id": "WRK9BicYdSHf"
      },
      "source": [
        "def features_extractor(file):\n",
        "    audio, sample_rate = librosa.load(file_name, res_type='kaiser_best') \n",
        "    mfccs_features = librosa.feature.mfcc(y=audio, sr=sample_rate, n_mfcc=40)\n",
        "    mfccs_scaled_features = np.mean(mfccs_features.T,axis=0)\n",
        "    \n",
        "    return mfccs_scaled_features"
      ],
      "execution_count": 8,
      "outputs": []
    },
    {
      "cell_type": "code",
      "metadata": {
        "id": "Pd0fkDWelR0q"
      },
      "source": [
        "import numpy as np\n",
        "#def manipulate(data, noise_factor):\n",
        "    #noise = np.random.randn(len(data))\n",
        "    #augmented_data = data + noise_factor * noise\n",
        "    # Cast back to same data type\n",
        "    #augmented_data = augmented_data.astype(type(data[0]))\n",
        "    #return augmented_data\n",
        "\n",
        "def manipulate(data, speed_factor):\n",
        "    return librosa.effects.time_stretch(data, speed_factor)    "
      ],
      "execution_count": 9,
      "outputs": []
    },
    {
      "cell_type": "code",
      "metadata": {
        "id": "O1aeGP7UEgrG"
      },
      "source": [
        "import warnings\n",
        "warnings.filterwarnings(\"ignore\")"
      ],
      "execution_count": 10,
      "outputs": []
    },
    {
      "cell_type": "code",
      "metadata": {
        "colab": {
          "base_uri": "https://localhost:8080/"
        },
        "id": "syJNzKl4eKct",
        "outputId": "6cda58a6-d47f-4d55-c990-8b3e864da02c"
      },
      "source": [
        "import numpy as np\n",
        "from tqdm import tqdm\n",
        "import math \n",
        "### Now we iterate through every audio file and extract features \n",
        "### using Mel-Frequency Cepstral Coefficients\n",
        "extracted_features=[]\n",
        "for index_num,row in tqdm(metadata.iterrows()):\n",
        "    file_name = \"/content/drive/My Drive/Major/Dataset/\" + str(row[\"folder\"])+\"/\"+str(row[\"slice_file_name\"])\n",
        "    final_class_labels=row[\"class\"]\n",
        "    data=features_extractor(file_name)\n",
        "    extracted_features.append([data,final_class_labels])\n",
        "    \n",
        "    ###Data Augmentation\n",
        "\n",
        "    librosa_audio_data,librosa_sample_rate=librosa.load(file_name)\n",
        "    aug_data = manipulate(librosa_audio_data, 1.5)\n",
        "    data1=features_extractor(aug_data)\n",
        "    extracted_features.append([data1,final_class_labels])"
      ],
      "execution_count": 11,
      "outputs": [
        {
          "output_type": "stream",
          "text": [
            "140it [03:18,  1.42s/it]\n"
          ],
          "name": "stderr"
        }
      ]
    },
    {
      "cell_type": "code",
      "metadata": {
        "colab": {
          "base_uri": "https://localhost:8080/",
          "height": 282
        },
        "id": "VTT9vsIrHma7",
        "outputId": "ccb496ae-5018-487e-840e-0b82ae6502ac"
      },
      "source": [
        "librosa_audio_data,librosa_sample_rate=librosa.load(file_name)\n",
        "plt.figure(figsize=(12, 4))\n",
        "plt.plot(librosa_audio_data)"
      ],
      "execution_count": 12,
      "outputs": [
        {
          "output_type": "execute_result",
          "data": {
            "text/plain": [
              "[<matplotlib.lines.Line2D at 0x7feb0139a710>]"
            ]
          },
          "metadata": {
            "tags": []
          },
          "execution_count": 12
        },
        {
          "output_type": "display_data",
          "data": {
            "image/png": "[encoded data removed]",
            "text/plain": [
              "<Figure size 864x288 with 1 Axes>"
            ]
          },
          "metadata": {
            "tags": [],
            "needs_background": "light"
          }
        }
      ]
    },
    {
      "cell_type": "code",
      "metadata": {
        "colab": {
          "base_uri": "https://localhost:8080/",
          "height": 282
        },
        "id": "CTEGcRx7wB4i",
        "outputId": "e8f8fb78-4814-4b03-9efe-b9dc9c7d255a"
      },
      "source": [
        "plt.figure(figsize=(12, 4))\n",
        "plt.plot(aug_data)"
      ],
      "execution_count": 13,
      "outputs": [
        {
          "output_type": "execute_result",
          "data": {
            "text/plain": [
              "[<matplotlib.lines.Line2D at 0x7feb00e312d0>]"
            ]
          },
          "metadata": {
            "tags": []
          },
          "execution_count": 13
        },
        {
          "output_type": "display_data",
          "data": {
            "image/png": "[encoded data removed]",
            "text/plain": [
              "<Figure size 864x288 with 1 Axes>"
            ]
          },
          "metadata": {
            "tags": [],
            "needs_background": "light"
          }
        }
      ]
    },
    {
      "cell_type": "code",
      "metadata": {
        "id": "3QQ7338qe4SP",
        "colab": {
          "base_uri": "https://localhost:8080/",
          "height": 204
        },
        "outputId": "8a854c0a-759d-47c0-ee15-759170c9b4ea"
      },
      "source": [
        "extracted_features_df=pd.DataFrame(extracted_features,columns=['feature','class'])\n",
        "extracted_features_df.head()"
      ],
      "execution_count": 14,
      "outputs": [
        {
          "output_type": "execute_result",
          "data": {
            "text/html": [
              "<div>\n",
              "<style scoped>\n",
              "    .dataframe tbody tr th:only-of-type {\n",
              "        vertical-align: middle;\n",
              "    }\n",
              "\n",
              "    .dataframe tbody tr th {\n",
              "        vertical-align: top;\n",
              "    }\n",
              "\n",
              "    .dataframe thead th {\n",
              "        text-align: right;\n",
              "    }\n",
              "</style>\n",
              "<table border=\"1\" class=\"dataframe\">\n",
              "  <thead>\n",
              "    <tr style=\"text-align: right;\">\n",
              "      <th></th>\n",
              "      <th>feature</th>\n",
              "      <th>class</th>\n",
              "    </tr>\n",
              "  </thead>\n",
              "  <tbody>\n",
              "    <tr>\n",
              "      <th>0</th>\n",
              "      <td>[-268.76205, 118.80415, 8.75868, -0.39495918, ...</td>\n",
              "      <td>Chiranjeevi_original</td>\n",
              "    </tr>\n",
              "    <tr>\n",
              "      <th>1</th>\n",
              "      <td>[-268.76205, 118.80415, 8.75868, -0.39495918, ...</td>\n",
              "      <td>Chiranjeevi_original</td>\n",
              "    </tr>\n",
              "    <tr>\n",
              "      <th>2</th>\n",
              "      <td>[-276.53424, 122.71467, 3.430855, -5.6095133, ...</td>\n",
              "      <td>Chiranjeevi_original</td>\n",
              "    </tr>\n",
              "    <tr>\n",
              "      <th>3</th>\n",
              "      <td>[-276.53424, 122.71467, 3.430855, -5.6095133, ...</td>\n",
              "      <td>Chiranjeevi_original</td>\n",
              "    </tr>\n",
              "    <tr>\n",
              "      <th>4</th>\n",
              "      <td>[-278.35916, 133.54228, 11.764387, -0.03837954...</td>\n",
              "      <td>Chiranjeevi_original</td>\n",
              "    </tr>\n",
              "  </tbody>\n",
              "</table>\n",
              "</div>"
            ],
            "text/plain": [
              "                                             feature                 class\n",
              "0  [-268.76205, 118.80415, 8.75868, -0.39495918, ...  Chiranjeevi_original\n",
              "1  [-268.76205, 118.80415, 8.75868, -0.39495918, ...  Chiranjeevi_original\n",
              "2  [-276.53424, 122.71467, 3.430855, -5.6095133, ...  Chiranjeevi_original\n",
              "3  [-276.53424, 122.71467, 3.430855, -5.6095133, ...  Chiranjeevi_original\n",
              "4  [-278.35916, 133.54228, 11.764387, -0.03837954...  Chiranjeevi_original"
            ]
          },
          "metadata": {
            "tags": []
          },
          "execution_count": 14
        }
      ]
    },
    {
      "cell_type": "code",
      "metadata": {
        "id": "tdHqkM063wiI"
      },
      "source": [
        "X=np.array(extracted_features_df['feature'].tolist())\n",
        "y=np.array(extracted_features_df['class'].tolist())"
      ],
      "execution_count": 15,
      "outputs": []
    },
    {
      "cell_type": "code",
      "metadata": {
        "colab": {
          "base_uri": "https://localhost:8080/"
        },
        "id": "e4wCzd4a6xBl",
        "outputId": "65e368d1-1d90-4970-f3c3-76cf05abb710"
      },
      "source": [
        "\n",
        "X.shape"
      ],
      "execution_count": 16,
      "outputs": [
        {
          "output_type": "execute_result",
          "data": {
            "text/plain": [
              "(280, 40)"
            ]
          },
          "metadata": {
            "tags": []
          },
          "execution_count": 16
        }
      ]
    },
    {
      "cell_type": "code",
      "metadata": {
        "colab": {
          "base_uri": "https://localhost:8080/"
        },
        "id": "pqMKrWyu6zQq",
        "outputId": "dfb7e579-fe2a-43e0-8f14-f27cf6d7bbd8"
      },
      "source": [
        "y.shape"
      ],
      "execution_count": 17,
      "outputs": [
        {
          "output_type": "execute_result",
          "data": {
            "text/plain": [
              "(280,)"
            ]
          },
          "metadata": {
            "tags": []
          },
          "execution_count": 17
        }
      ]
    },
    {
      "cell_type": "code",
      "metadata": {
        "id": "dNr4oUtf63PX"
      },
      "source": [
        "from tensorflow.keras.utils import to_categorical\n",
        "from sklearn.preprocessing import LabelEncoder\n",
        "labelencoder=LabelEncoder()\n",
        "y=to_categorical(labelencoder.fit_transform(y))"
      ],
      "execution_count": 18,
      "outputs": []
    },
    {
      "cell_type": "code",
      "metadata": {
        "id": "uVxJTnm3682g"
      },
      "source": [
        "from sklearn.model_selection import train_test_split\n",
        "X_train,X_test,y_train,y_test=train_test_split(X,y,test_size=0.2,random_state=0)"
      ],
      "execution_count": 19,
      "outputs": []
    },
    {
      "cell_type": "code",
      "metadata": {
        "colab": {
          "base_uri": "https://localhost:8080/"
        },
        "id": "PV29DNtK6_mm",
        "outputId": "d27224da-ba3f-4235-8a7d-7b082740502e"
      },
      "source": [
        "X_train"
      ],
      "execution_count": 20,
      "outputs": [
        {
          "output_type": "execute_result",
          "data": {
            "text/plain": [
              "array([[-2.92194092e+02,  1.39620590e+02,  8.98423195e+00, ...,\n",
              "        -1.80145037e+00, -3.21983814e+00, -1.65373003e+00],\n",
              "       [-1.71313751e+02,  1.17186630e+02, -8.60258484e+00, ...,\n",
              "         5.13881326e-01, -2.17698860e+00,  3.63800824e-01],\n",
              "       [-2.35318420e+02,  1.33329742e+02,  5.09823942e+00, ...,\n",
              "         7.61898398e-01,  1.40185738e+00,  3.92657161e+00],\n",
              "       ...,\n",
              "       [-1.54950134e+02,  1.47640762e+02, -1.68065701e+01, ...,\n",
              "         2.07886696e+00, -2.72283018e-01,  2.09411398e-01],\n",
              "       [-2.67158478e+02,  1.44629333e+02, -1.93607025e+01, ...,\n",
              "         1.89210308e+00,  2.81170201e+00,  1.91747558e+00],\n",
              "       [-1.85125137e+02,  1.20984695e+02,  3.22187591e+00, ...,\n",
              "        -3.30099493e-01, -5.08584082e-01, -6.88392878e-01]], dtype=float32)"
            ]
          },
          "metadata": {
            "tags": []
          },
          "execution_count": 20
        }
      ]
    },
    {
      "cell_type": "code",
      "metadata": {
        "colab": {
          "base_uri": "https://localhost:8080/"
        },
        "id": "KnjbZs2h7Ble",
        "outputId": "7cd30b4d-3d66-4050-ed1b-2105122a33e5"
      },
      "source": [
        "X_train.shape"
      ],
      "execution_count": 21,
      "outputs": [
        {
          "output_type": "execute_result",
          "data": {
            "text/plain": [
              "(224, 40)"
            ]
          },
          "metadata": {
            "tags": []
          },
          "execution_count": 21
        }
      ]
    },
    {
      "cell_type": "code",
      "metadata": {
        "colab": {
          "base_uri": "https://localhost:8080/"
        },
        "id": "t-w4Y2P17JEV",
        "outputId": "1fa2bf36-112a-45ce-9ee1-434401ec64b0"
      },
      "source": [
        "X_test.shape"
      ],
      "execution_count": 22,
      "outputs": [
        {
          "output_type": "execute_result",
          "data": {
            "text/plain": [
              "(56, 40)"
            ]
          },
          "metadata": {
            "tags": []
          },
          "execution_count": 22
        }
      ]
    },
    {
      "cell_type": "code",
      "metadata": {
        "colab": {
          "base_uri": "https://localhost:8080/"
        },
        "id": "lYitw2sk7OQe",
        "outputId": "615d692b-d322-4d35-a3c8-153b996b7a0b"
      },
      "source": [
        "\n",
        "y_train.shape"
      ],
      "execution_count": 23,
      "outputs": [
        {
          "output_type": "execute_result",
          "data": {
            "text/plain": [
              "(224, 4)"
            ]
          },
          "metadata": {
            "tags": []
          },
          "execution_count": 23
        }
      ]
    },
    {
      "cell_type": "code",
      "metadata": {
        "colab": {
          "base_uri": "https://localhost:8080/"
        },
        "id": "CjbP8peF7P4h",
        "outputId": "2d29be5c-2497-46aa-bd23-99bd6cfa52d7"
      },
      "source": [
        "y_test.shape"
      ],
      "execution_count": 24,
      "outputs": [
        {
          "output_type": "execute_result",
          "data": {
            "text/plain": [
              "(56, 4)"
            ]
          },
          "metadata": {
            "tags": []
          },
          "execution_count": 24
        }
      ]
    },
    {
      "cell_type": "code",
      "metadata": {
        "colab": {
          "base_uri": "https://localhost:8080/"
        },
        "id": "-6zdMKnd7RVi",
        "outputId": "b72c699a-bb50-451f-e598-3b6d5006fa80"
      },
      "source": [
        "import tensorflow as tf\n",
        "print(tf.__version__)"
      ],
      "execution_count": 25,
      "outputs": [
        {
          "output_type": "stream",
          "text": [
            "2.4.1\n"
          ],
          "name": "stdout"
        }
      ]
    },
    {
      "cell_type": "code",
      "metadata": {
        "id": "4kAzqc637hnk"
      },
      "source": [
        "from tensorflow.keras.models import Sequential\n",
        "from tensorflow.keras.layers import Dense,Dropout,Activation,Flatten\n",
        "from tensorflow.keras.optimizers import Adam\n",
        "from sklearn import metrics"
      ],
      "execution_count": 26,
      "outputs": []
    },
    {
      "cell_type": "code",
      "metadata": {
        "id": "mVn4BPP67jPJ"
      },
      "source": [
        "num_labels=y.shape[1]"
      ],
      "execution_count": 27,
      "outputs": []
    },
    {
      "cell_type": "code",
      "metadata": {
        "id": "1q5kfl2W7mqr"
      },
      "source": [
        "model=Sequential()\n",
        "###first layer\n",
        "model.add(Dense(100,input_shape=(40,)))\n",
        "model.add(Activation('relu'))\n",
        "model.add(Dropout(0.5))\n",
        "\n",
        "###second layer\n",
        "model.add(Dense(200))\n",
        "model.add(Activation('relu'))\n",
        "model.add(Dropout(0.5))\n",
        "\n",
        "###third layer\n",
        "model.add(Dense(100))\n",
        "model.add(Activation('relu'))\n",
        "model.add(Dropout(0.5))\n",
        "\n",
        "###final layer\n",
        "model.add(Dense(num_labels))\n",
        "model.add(Activation('softmax'))"
      ],
      "execution_count": 28,
      "outputs": []
    },
    {
      "cell_type": "code",
      "metadata": {
        "colab": {
          "base_uri": "https://localhost:8080/"
        },
        "id": "eqvDfUCm7pLT",
        "outputId": "3c96094a-54b9-4800-dfb8-dbf1300f574b"
      },
      "source": [
        "model.summary()"
      ],
      "execution_count": 29,
      "outputs": [
        {
          "output_type": "stream",
          "text": [
            "Model: \"sequential\"\n",
            "_________________________________________________________________\n",
            "Layer (type)                 Output Shape              Param #   \n",
            "=================================================================\n",
            "dense (Dense)                (None, 100)               4100      \n",
            "_________________________________________________________________\n",
            "activation (Activation)      (None, 100)               0         \n",
            "_________________________________________________________________\n",
            "dropout (Dropout)            (None, 100)               0         \n",
            "_________________________________________________________________\n",
            "dense_1 (Dense)              (None, 200)               20200     \n",
            "_________________________________________________________________\n",
            "activation_1 (Activation)    (None, 200)               0         \n",
            "_________________________________________________________________\n",
            "dropout_1 (Dropout)          (None, 200)               0         \n",
            "_________________________________________________________________\n",
            "dense_2 (Dense)              (None, 100)               20100     \n",
            "_________________________________________________________________\n",
            "activation_2 (Activation)    (None, 100)               0         \n",
            "_________________________________________________________________\n",
            "dropout_2 (Dropout)          (None, 100)               0         \n",
            "_________________________________________________________________\n",
            "dense_3 (Dense)              (None, 4)                 404       \n",
            "_________________________________________________________________\n",
            "activation_3 (Activation)    (None, 4)                 0         \n",
            "=================================================================\n",
            "Total params: 44,804\n",
            "Trainable params: 44,804\n",
            "Non-trainable params: 0\n",
            "_________________________________________________________________\n"
          ],
          "name": "stdout"
        }
      ]
    },
    {
      "cell_type": "code",
      "metadata": {
        "id": "GMBsXcEJ7qx7"
      },
      "source": [
        "model.compile(loss='categorical_crossentropy',metrics=['accuracy'],optimizer='adam')"
      ],
      "execution_count": 30,
      "outputs": []
    },
    {
      "cell_type": "code",
      "metadata": {
        "colab": {
          "base_uri": "https://localhost:8080/"
        },
        "id": "m5z7dw7f7tS9",
        "outputId": "22bbe3bd-8ea7-4431-83ed-fb4dd02f994b"
      },
      "source": [
        "## Trianing my model\n",
        "from tensorflow.keras.callbacks import ModelCheckpoint\n",
        "from datetime import datetime \n",
        "\n",
        "num_epochs = 100\n",
        "num_batch_size = 32\n",
        "\n",
        "checkpointer = ModelCheckpoint(filepath='saved_models/audio_classification.hdf5',verbose=1, save_best_only=True)\n",
        "start = datetime.now()\n",
        "\n",
        "model.fit(X_train, y_train, batch_size=num_batch_size, epochs=num_epochs, validation_data=(X_test, y_test), callbacks=[checkpointer], verbose=1)\n",
        "\n",
        "\n",
        "duration = datetime.now() - start\n",
        "print(\"Training completed in time: \", duration)"
      ],
      "execution_count": 31,
      "outputs": [
        {
          "output_type": "stream",
          "text": [
            "Epoch 1/100\n",
            "7/7 [==============================] - 1s 94ms/step - loss: 39.1650 - accuracy: 0.2183 - val_loss: 9.5795 - val_accuracy: 0.2679\n",
            "\n",
            "Epoch 00001: val_loss improved from inf to 9.57947, saving model to saved_models/audio_classification.hdf5\n",
            "Epoch 2/100\n",
            "7/7 [==============================] - 0s 10ms/step - loss: 31.9274 - accuracy: 0.2494 - val_loss: 9.6365 - val_accuracy: 0.2143\n",
            "\n",
            "Epoch 00002: val_loss did not improve from 9.57947\n",
            "Epoch 3/100\n",
            "7/7 [==============================] - 0s 10ms/step - loss: 22.9662 - accuracy: 0.3000 - val_loss: 4.8469 - val_accuracy: 0.2143\n",
            "\n",
            "Epoch 00003: val_loss improved from 9.57947 to 4.84693, saving model to saved_models/audio_classification.hdf5\n",
            "Epoch 4/100\n",
            "7/7 [==============================] - 0s 11ms/step - loss: 20.8590 - accuracy: 0.2648 - val_loss: 1.6117 - val_accuracy: 0.3036\n",
            "\n",
            "Epoch 00004: val_loss improved from 4.84693 to 1.61166, saving model to saved_models/audio_classification.hdf5\n",
            "Epoch 5/100\n",
            "7/7 [==============================] - 0s 11ms/step - loss: 14.9579 - accuracy: 0.3004 - val_loss: 1.3046 - val_accuracy: 0.3214\n",
            "\n",
            "Epoch 00005: val_loss improved from 1.61166 to 1.30459, saving model to saved_models/audio_classification.hdf5\n",
            "Epoch 6/100\n",
            "7/7 [==============================] - 0s 10ms/step - loss: 12.0548 - accuracy: 0.3101 - val_loss: 1.2096 - val_accuracy: 0.3036\n",
            "\n",
            "Epoch 00006: val_loss improved from 1.30459 to 1.20964, saving model to saved_models/audio_classification.hdf5\n",
            "Epoch 7/100\n",
            "7/7 [==============================] - 0s 10ms/step - loss: 10.8936 - accuracy: 0.2869 - val_loss: 1.3455 - val_accuracy: 0.3214\n",
            "\n",
            "Epoch 00007: val_loss did not improve from 1.20964\n",
            "Epoch 8/100\n",
            "7/7 [==============================] - 0s 10ms/step - loss: 7.8494 - accuracy: 0.3555 - val_loss: 1.4955 - val_accuracy: 0.3036\n",
            "\n",
            "Epoch 00008: val_loss did not improve from 1.20964\n",
            "Epoch 9/100\n",
            "7/7 [==============================] - 0s 10ms/step - loss: 9.1397 - accuracy: 0.2409 - val_loss: 1.4473 - val_accuracy: 0.3036\n",
            "\n",
            "Epoch 00009: val_loss did not improve from 1.20964\n",
            "Epoch 10/100\n",
            "7/7 [==============================] - 0s 11ms/step - loss: 8.0454 - accuracy: 0.2830 - val_loss: 1.3543 - val_accuracy: 0.4643\n",
            "\n",
            "Epoch 00010: val_loss did not improve from 1.20964\n",
            "Epoch 11/100\n",
            "7/7 [==============================] - 0s 11ms/step - loss: 7.1141 - accuracy: 0.2473 - val_loss: 1.2980 - val_accuracy: 0.4643\n",
            "\n",
            "Epoch 00011: val_loss did not improve from 1.20964\n",
            "Epoch 12/100\n",
            "7/7 [==============================] - 0s 12ms/step - loss: 6.3000 - accuracy: 0.2690 - val_loss: 1.2545 - val_accuracy: 0.4286\n",
            "\n",
            "Epoch 00012: val_loss did not improve from 1.20964\n",
            "Epoch 13/100\n",
            "7/7 [==============================] - 0s 13ms/step - loss: 4.7037 - accuracy: 0.2873 - val_loss: 1.2289 - val_accuracy: 0.4286\n",
            "\n",
            "Epoch 00013: val_loss did not improve from 1.20964\n",
            "Epoch 14/100\n",
            "7/7 [==============================] - 0s 11ms/step - loss: 4.2028 - accuracy: 0.2886 - val_loss: 1.2337 - val_accuracy: 0.2500\n",
            "\n",
            "Epoch 00014: val_loss did not improve from 1.20964\n",
            "Epoch 15/100\n",
            "7/7 [==============================] - 0s 10ms/step - loss: 4.5872 - accuracy: 0.2361 - val_loss: 1.2380 - val_accuracy: 0.1964\n",
            "\n",
            "Epoch 00015: val_loss did not improve from 1.20964\n",
            "Epoch 16/100\n",
            "7/7 [==============================] - 0s 10ms/step - loss: 3.7201 - accuracy: 0.2917 - val_loss: 1.2411 - val_accuracy: 0.2857\n",
            "\n",
            "Epoch 00016: val_loss did not improve from 1.20964\n",
            "Epoch 17/100\n",
            "7/7 [==============================] - 0s 10ms/step - loss: 2.8858 - accuracy: 0.3904 - val_loss: 1.2450 - val_accuracy: 0.3214\n",
            "\n",
            "Epoch 00017: val_loss did not improve from 1.20964\n",
            "Epoch 18/100\n",
            "7/7 [==============================] - 0s 10ms/step - loss: 3.4329 - accuracy: 0.2772 - val_loss: 1.2348 - val_accuracy: 0.3750\n",
            "\n",
            "Epoch 00018: val_loss did not improve from 1.20964\n",
            "Epoch 19/100\n",
            "7/7 [==============================] - 0s 9ms/step - loss: 3.1766 - accuracy: 0.2981 - val_loss: 1.2245 - val_accuracy: 0.4643\n",
            "\n",
            "Epoch 00019: val_loss did not improve from 1.20964\n",
            "Epoch 20/100\n",
            "7/7 [==============================] - 0s 9ms/step - loss: 3.4179 - accuracy: 0.2619 - val_loss: 1.2207 - val_accuracy: 0.4821\n",
            "\n",
            "Epoch 00020: val_loss did not improve from 1.20964\n",
            "Epoch 21/100\n",
            "7/7 [==============================] - 0s 11ms/step - loss: 2.3051 - accuracy: 0.3669 - val_loss: 1.2171 - val_accuracy: 0.4821\n",
            "\n",
            "Epoch 00021: val_loss did not improve from 1.20964\n",
            "Epoch 22/100\n",
            "7/7 [==============================] - 0s 9ms/step - loss: 2.7028 - accuracy: 0.3685 - val_loss: 1.2139 - val_accuracy: 0.4821\n",
            "\n",
            "Epoch 00022: val_loss did not improve from 1.20964\n",
            "Epoch 23/100\n",
            "7/7 [==============================] - 0s 11ms/step - loss: 2.6349 - accuracy: 0.3337 - val_loss: 1.2122 - val_accuracy: 0.4821\n",
            "\n",
            "Epoch 00023: val_loss did not improve from 1.20964\n",
            "Epoch 24/100\n",
            "7/7 [==============================] - 0s 10ms/step - loss: 2.2964 - accuracy: 0.3506 - val_loss: 1.2131 - val_accuracy: 0.4643\n",
            "\n",
            "Epoch 00024: val_loss did not improve from 1.20964\n",
            "Epoch 25/100\n",
            "7/7 [==============================] - 0s 9ms/step - loss: 2.3994 - accuracy: 0.3452 - val_loss: 1.2149 - val_accuracy: 0.4464\n",
            "\n",
            "Epoch 00025: val_loss did not improve from 1.20964\n",
            "Epoch 26/100\n",
            "7/7 [==============================] - 0s 10ms/step - loss: 2.2412 - accuracy: 0.3414 - val_loss: 1.2191 - val_accuracy: 0.3929\n",
            "\n",
            "Epoch 00026: val_loss did not improve from 1.20964\n",
            "Epoch 27/100\n",
            "7/7 [==============================] - 0s 11ms/step - loss: 2.1287 - accuracy: 0.3646 - val_loss: 1.2255 - val_accuracy: 0.3750\n",
            "\n",
            "Epoch 00027: val_loss did not improve from 1.20964\n",
            "Epoch 28/100\n",
            "7/7 [==============================] - 0s 10ms/step - loss: 2.0700 - accuracy: 0.3147 - val_loss: 1.2261 - val_accuracy: 0.4464\n",
            "\n",
            "Epoch 00028: val_loss did not improve from 1.20964\n",
            "Epoch 29/100\n",
            "7/7 [==============================] - 0s 10ms/step - loss: 1.7968 - accuracy: 0.3664 - val_loss: 1.2223 - val_accuracy: 0.4464\n",
            "\n",
            "Epoch 00029: val_loss did not improve from 1.20964\n",
            "Epoch 30/100\n",
            "7/7 [==============================] - 0s 9ms/step - loss: 1.9266 - accuracy: 0.3264 - val_loss: 1.2186 - val_accuracy: 0.4286\n",
            "\n",
            "Epoch 00030: val_loss did not improve from 1.20964\n",
            "Epoch 31/100\n",
            "7/7 [==============================] - 0s 9ms/step - loss: 1.9712 - accuracy: 0.3656 - val_loss: 1.2137 - val_accuracy: 0.4286\n",
            "\n",
            "Epoch 00031: val_loss did not improve from 1.20964\n",
            "Epoch 32/100\n",
            "7/7 [==============================] - 0s 12ms/step - loss: 1.9150 - accuracy: 0.4070 - val_loss: 1.2092 - val_accuracy: 0.4286\n",
            "\n",
            "Epoch 00032: val_loss improved from 1.20964 to 1.20925, saving model to saved_models/audio_classification.hdf5\n",
            "Epoch 33/100\n",
            "7/7 [==============================] - 0s 10ms/step - loss: 1.7624 - accuracy: 0.3580 - val_loss: 1.2030 - val_accuracy: 0.4286\n",
            "\n",
            "Epoch 00033: val_loss improved from 1.20925 to 1.20299, saving model to saved_models/audio_classification.hdf5\n",
            "Epoch 34/100\n",
            "7/7 [==============================] - 0s 11ms/step - loss: 1.6762 - accuracy: 0.3544 - val_loss: 1.2007 - val_accuracy: 0.4286\n",
            "\n",
            "Epoch 00034: val_loss improved from 1.20299 to 1.20075, saving model to saved_models/audio_classification.hdf5\n",
            "Epoch 35/100\n",
            "7/7 [==============================] - 0s 9ms/step - loss: 1.6387 - accuracy: 0.3638 - val_loss: 1.1983 - val_accuracy: 0.4286\n",
            "\n",
            "Epoch 00035: val_loss improved from 1.20075 to 1.19829, saving model to saved_models/audio_classification.hdf5\n",
            "Epoch 36/100\n",
            "7/7 [==============================] - 0s 10ms/step - loss: 1.6752 - accuracy: 0.3975 - val_loss: 1.1961 - val_accuracy: 0.4286\n",
            "\n",
            "Epoch 00036: val_loss improved from 1.19829 to 1.19612, saving model to saved_models/audio_classification.hdf5\n",
            "Epoch 37/100\n",
            "7/7 [==============================] - 0s 10ms/step - loss: 1.4743 - accuracy: 0.3880 - val_loss: 1.1886 - val_accuracy: 0.4286\n",
            "\n",
            "Epoch 00037: val_loss improved from 1.19612 to 1.18865, saving model to saved_models/audio_classification.hdf5\n",
            "Epoch 38/100\n",
            "7/7 [==============================] - 0s 10ms/step - loss: 1.4129 - accuracy: 0.3948 - val_loss: 1.1813 - val_accuracy: 0.4286\n",
            "\n",
            "Epoch 00038: val_loss improved from 1.18865 to 1.18129, saving model to saved_models/audio_classification.hdf5\n",
            "Epoch 39/100\n",
            "7/7 [==============================] - 0s 11ms/step - loss: 1.3727 - accuracy: 0.4471 - val_loss: 1.1744 - val_accuracy: 0.3929\n",
            "\n",
            "Epoch 00039: val_loss improved from 1.18129 to 1.17436, saving model to saved_models/audio_classification.hdf5\n",
            "Epoch 40/100\n",
            "7/7 [==============================] - 0s 10ms/step - loss: 1.3243 - accuracy: 0.4278 - val_loss: 1.1674 - val_accuracy: 0.3571\n",
            "\n",
            "Epoch 00040: val_loss improved from 1.17436 to 1.16739, saving model to saved_models/audio_classification.hdf5\n",
            "Epoch 41/100\n",
            "7/7 [==============================] - 0s 10ms/step - loss: 1.4736 - accuracy: 0.3327 - val_loss: 1.1601 - val_accuracy: 0.3571\n",
            "\n",
            "Epoch 00041: val_loss improved from 1.16739 to 1.16009, saving model to saved_models/audio_classification.hdf5\n",
            "Epoch 42/100\n",
            "7/7 [==============================] - 0s 10ms/step - loss: 1.4971 - accuracy: 0.4210 - val_loss: 1.1534 - val_accuracy: 0.3571\n",
            "\n",
            "Epoch 00042: val_loss improved from 1.16009 to 1.15344, saving model to saved_models/audio_classification.hdf5\n",
            "Epoch 43/100\n",
            "7/7 [==============================] - 0s 12ms/step - loss: 1.3470 - accuracy: 0.3355 - val_loss: 1.1475 - val_accuracy: 0.3214\n",
            "\n",
            "Epoch 00043: val_loss improved from 1.15344 to 1.14745, saving model to saved_models/audio_classification.hdf5\n",
            "Epoch 44/100\n",
            "7/7 [==============================] - 0s 10ms/step - loss: 1.2529 - accuracy: 0.4250 - val_loss: 1.1378 - val_accuracy: 0.3571\n",
            "\n",
            "Epoch 00044: val_loss improved from 1.14745 to 1.13780, saving model to saved_models/audio_classification.hdf5\n",
            "Epoch 45/100\n",
            "7/7 [==============================] - 0s 9ms/step - loss: 1.6820 - accuracy: 0.3835 - val_loss: 1.1326 - val_accuracy: 0.3571\n",
            "\n",
            "Epoch 00045: val_loss improved from 1.13780 to 1.13264, saving model to saved_models/audio_classification.hdf5\n",
            "Epoch 46/100\n",
            "7/7 [==============================] - 0s 11ms/step - loss: 1.3428 - accuracy: 0.4592 - val_loss: 1.1284 - val_accuracy: 0.3750\n",
            "\n",
            "Epoch 00046: val_loss improved from 1.13264 to 1.12838, saving model to saved_models/audio_classification.hdf5\n",
            "Epoch 47/100\n",
            "7/7 [==============================] - 0s 9ms/step - loss: 1.3256 - accuracy: 0.4004 - val_loss: 1.1247 - val_accuracy: 0.3750\n",
            "\n",
            "Epoch 00047: val_loss improved from 1.12838 to 1.12471, saving model to saved_models/audio_classification.hdf5\n",
            "Epoch 48/100\n",
            "7/7 [==============================] - 0s 9ms/step - loss: 1.2714 - accuracy: 0.5162 - val_loss: 1.1191 - val_accuracy: 0.3750\n",
            "\n",
            "Epoch 00048: val_loss improved from 1.12471 to 1.11909, saving model to saved_models/audio_classification.hdf5\n",
            "Epoch 49/100\n",
            "7/7 [==============================] - 0s 11ms/step - loss: 1.3457 - accuracy: 0.4043 - val_loss: 1.1111 - val_accuracy: 0.3750\n",
            "\n",
            "Epoch 00049: val_loss improved from 1.11909 to 1.11115, saving model to saved_models/audio_classification.hdf5\n",
            "Epoch 50/100\n",
            "7/7 [==============================] - 0s 11ms/step - loss: 1.3511 - accuracy: 0.3653 - val_loss: 1.1072 - val_accuracy: 0.3750\n",
            "\n",
            "Epoch 00050: val_loss improved from 1.11115 to 1.10720, saving model to saved_models/audio_classification.hdf5\n",
            "Epoch 51/100\n",
            "7/7 [==============================] - 0s 11ms/step - loss: 1.1886 - accuracy: 0.4720 - val_loss: 1.1043 - val_accuracy: 0.3750\n",
            "\n",
            "Epoch 00051: val_loss improved from 1.10720 to 1.10433, saving model to saved_models/audio_classification.hdf5\n",
            "Epoch 52/100\n",
            "7/7 [==============================] - 0s 10ms/step - loss: 1.3923 - accuracy: 0.3917 - val_loss: 1.1011 - val_accuracy: 0.3750\n",
            "\n",
            "Epoch 00052: val_loss improved from 1.10433 to 1.10112, saving model to saved_models/audio_classification.hdf5\n",
            "Epoch 53/100\n",
            "7/7 [==============================] - 0s 10ms/step - loss: 1.2823 - accuracy: 0.4190 - val_loss: 1.0961 - val_accuracy: 0.3750\n",
            "\n",
            "Epoch 00053: val_loss improved from 1.10112 to 1.09607, saving model to saved_models/audio_classification.hdf5\n",
            "Epoch 54/100\n",
            "7/7 [==============================] - 0s 9ms/step - loss: 1.0617 - accuracy: 0.5393 - val_loss: 1.0883 - val_accuracy: 0.3929\n",
            "\n",
            "Epoch 00054: val_loss improved from 1.09607 to 1.08831, saving model to saved_models/audio_classification.hdf5\n",
            "Epoch 55/100\n",
            "7/7 [==============================] - 0s 10ms/step - loss: 1.3162 - accuracy: 0.4952 - val_loss: 1.0798 - val_accuracy: 0.3929\n",
            "\n",
            "Epoch 00055: val_loss improved from 1.08831 to 1.07981, saving model to saved_models/audio_classification.hdf5\n",
            "Epoch 56/100\n",
            "7/7 [==============================] - 0s 10ms/step - loss: 1.0581 - accuracy: 0.4591 - val_loss: 1.0733 - val_accuracy: 0.3929\n",
            "\n",
            "Epoch 00056: val_loss improved from 1.07981 to 1.07328, saving model to saved_models/audio_classification.hdf5\n",
            "Epoch 57/100\n",
            "7/7 [==============================] - 0s 11ms/step - loss: 1.1125 - accuracy: 0.5293 - val_loss: 1.0649 - val_accuracy: 0.3750\n",
            "\n",
            "Epoch 00057: val_loss improved from 1.07328 to 1.06487, saving model to saved_models/audio_classification.hdf5\n",
            "Epoch 58/100\n",
            "7/7 [==============================] - 0s 10ms/step - loss: 1.1841 - accuracy: 0.4174 - val_loss: 1.0499 - val_accuracy: 0.3929\n",
            "\n",
            "Epoch 00058: val_loss improved from 1.06487 to 1.04994, saving model to saved_models/audio_classification.hdf5\n",
            "Epoch 59/100\n",
            "7/7 [==============================] - 0s 10ms/step - loss: 1.1164 - accuracy: 0.4396 - val_loss: 1.0355 - val_accuracy: 0.3929\n",
            "\n",
            "Epoch 00059: val_loss improved from 1.04994 to 1.03552, saving model to saved_models/audio_classification.hdf5\n",
            "Epoch 60/100\n",
            "7/7 [==============================] - 0s 10ms/step - loss: 1.1802 - accuracy: 0.4940 - val_loss: 1.0365 - val_accuracy: 0.3929\n",
            "\n",
            "Epoch 00060: val_loss did not improve from 1.03552\n",
            "Epoch 61/100\n",
            "7/7 [==============================] - 0s 10ms/step - loss: 1.1666 - accuracy: 0.4811 - val_loss: 1.0439 - val_accuracy: 0.3750\n",
            "\n",
            "Epoch 00061: val_loss did not improve from 1.03552\n",
            "Epoch 62/100\n",
            "7/7 [==============================] - 0s 10ms/step - loss: 1.1996 - accuracy: 0.5011 - val_loss: 1.0360 - val_accuracy: 0.3571\n",
            "\n",
            "Epoch 00062: val_loss did not improve from 1.03552\n",
            "Epoch 63/100\n",
            "7/7 [==============================] - 0s 10ms/step - loss: 1.0374 - accuracy: 0.6006 - val_loss: 1.0269 - val_accuracy: 0.4107\n",
            "\n",
            "Epoch 00063: val_loss improved from 1.03552 to 1.02688, saving model to saved_models/audio_classification.hdf5\n",
            "Epoch 64/100\n",
            "7/7 [==============================] - 0s 10ms/step - loss: 1.0882 - accuracy: 0.5252 - val_loss: 1.0198 - val_accuracy: 0.4286\n",
            "\n",
            "Epoch 00064: val_loss improved from 1.02688 to 1.01983, saving model to saved_models/audio_classification.hdf5\n",
            "Epoch 65/100\n",
            "7/7 [==============================] - 0s 11ms/step - loss: 1.0057 - accuracy: 0.5322 - val_loss: 1.0117 - val_accuracy: 0.4286\n",
            "\n",
            "Epoch 00065: val_loss improved from 1.01983 to 1.01172, saving model to saved_models/audio_classification.hdf5\n",
            "Epoch 66/100\n",
            "7/7 [==============================] - 0s 11ms/step - loss: 1.0876 - accuracy: 0.5312 - val_loss: 1.0049 - val_accuracy: 0.4286\n",
            "\n",
            "Epoch 00066: val_loss improved from 1.01172 to 1.00486, saving model to saved_models/audio_classification.hdf5\n",
            "Epoch 67/100\n",
            "7/7 [==============================] - 0s 10ms/step - loss: 1.0415 - accuracy: 0.5262 - val_loss: 0.9957 - val_accuracy: 0.4464\n",
            "\n",
            "Epoch 00067: val_loss improved from 1.00486 to 0.99567, saving model to saved_models/audio_classification.hdf5\n",
            "Epoch 68/100\n",
            "7/7 [==============================] - 0s 10ms/step - loss: 1.0637 - accuracy: 0.5321 - val_loss: 0.9884 - val_accuracy: 0.4464\n",
            "\n",
            "Epoch 00068: val_loss improved from 0.99567 to 0.98835, saving model to saved_models/audio_classification.hdf5\n",
            "Epoch 69/100\n",
            "7/7 [==============================] - 0s 11ms/step - loss: 1.0681 - accuracy: 0.4654 - val_loss: 0.9803 - val_accuracy: 0.4464\n",
            "\n",
            "Epoch 00069: val_loss improved from 0.98835 to 0.98031, saving model to saved_models/audio_classification.hdf5\n",
            "Epoch 70/100\n",
            "7/7 [==============================] - 0s 11ms/step - loss: 1.0618 - accuracy: 0.5041 - val_loss: 0.9729 - val_accuracy: 0.4464\n",
            "\n",
            "Epoch 00070: val_loss improved from 0.98031 to 0.97295, saving model to saved_models/audio_classification.hdf5\n",
            "Epoch 71/100\n",
            "7/7 [==============================] - 0s 10ms/step - loss: 1.0599 - accuracy: 0.5289 - val_loss: 0.9693 - val_accuracy: 0.5000\n",
            "\n",
            "Epoch 00071: val_loss improved from 0.97295 to 0.96934, saving model to saved_models/audio_classification.hdf5\n",
            "Epoch 72/100\n",
            "7/7 [==============================] - 0s 11ms/step - loss: 1.0128 - accuracy: 0.5426 - val_loss: 0.9647 - val_accuracy: 0.6071\n",
            "\n",
            "Epoch 00072: val_loss improved from 0.96934 to 0.96467, saving model to saved_models/audio_classification.hdf5\n",
            "Epoch 73/100\n",
            "7/7 [==============================] - 0s 10ms/step - loss: 1.0396 - accuracy: 0.5404 - val_loss: 0.9573 - val_accuracy: 0.5893\n",
            "\n",
            "Epoch 00073: val_loss improved from 0.96467 to 0.95734, saving model to saved_models/audio_classification.hdf5\n",
            "Epoch 74/100\n",
            "7/7 [==============================] - 0s 10ms/step - loss: 1.0378 - accuracy: 0.4672 - val_loss: 0.9534 - val_accuracy: 0.5536\n",
            "\n",
            "Epoch 00074: val_loss improved from 0.95734 to 0.95340, saving model to saved_models/audio_classification.hdf5\n",
            "Epoch 75/100\n",
            "7/7 [==============================] - 0s 9ms/step - loss: 1.2227 - accuracy: 0.4871 - val_loss: 0.9498 - val_accuracy: 0.4464\n",
            "\n",
            "Epoch 00075: val_loss improved from 0.95340 to 0.94976, saving model to saved_models/audio_classification.hdf5\n",
            "Epoch 76/100\n",
            "7/7 [==============================] - 0s 10ms/step - loss: 1.0011 - accuracy: 0.5289 - val_loss: 0.9413 - val_accuracy: 0.4643\n",
            "\n",
            "Epoch 00076: val_loss improved from 0.94976 to 0.94133, saving model to saved_models/audio_classification.hdf5\n",
            "Epoch 77/100\n",
            "7/7 [==============================] - 0s 11ms/step - loss: 1.0297 - accuracy: 0.5275 - val_loss: 0.9267 - val_accuracy: 0.4643\n",
            "\n",
            "Epoch 00077: val_loss improved from 0.94133 to 0.92665, saving model to saved_models/audio_classification.hdf5\n",
            "Epoch 78/100\n",
            "7/7 [==============================] - 0s 10ms/step - loss: 0.8993 - accuracy: 0.5475 - val_loss: 0.9121 - val_accuracy: 0.4643\n",
            "\n",
            "Epoch 00078: val_loss improved from 0.92665 to 0.91206, saving model to saved_models/audio_classification.hdf5\n",
            "Epoch 79/100\n",
            "7/7 [==============================] - 0s 10ms/step - loss: 1.0927 - accuracy: 0.5416 - val_loss: 0.9048 - val_accuracy: 0.4821\n",
            "\n",
            "Epoch 00079: val_loss improved from 0.91206 to 0.90482, saving model to saved_models/audio_classification.hdf5\n",
            "Epoch 80/100\n",
            "7/7 [==============================] - 0s 10ms/step - loss: 1.0087 - accuracy: 0.5017 - val_loss: 0.9001 - val_accuracy: 0.5536\n",
            "\n",
            "Epoch 00080: val_loss improved from 0.90482 to 0.90012, saving model to saved_models/audio_classification.hdf5\n",
            "Epoch 81/100\n",
            "7/7 [==============================] - 0s 11ms/step - loss: 0.9087 - accuracy: 0.5849 - val_loss: 0.8899 - val_accuracy: 0.5714\n",
            "\n",
            "Epoch 00081: val_loss improved from 0.90012 to 0.88994, saving model to saved_models/audio_classification.hdf5\n",
            "Epoch 82/100\n",
            "7/7 [==============================] - 0s 11ms/step - loss: 0.9328 - accuracy: 0.5233 - val_loss: 0.8725 - val_accuracy: 0.5536\n",
            "\n",
            "Epoch 00082: val_loss improved from 0.88994 to 0.87253, saving model to saved_models/audio_classification.hdf5\n",
            "Epoch 83/100\n",
            "7/7 [==============================] - 0s 11ms/step - loss: 0.9844 - accuracy: 0.4910 - val_loss: 0.8580 - val_accuracy: 0.8393\n",
            "\n",
            "Epoch 00083: val_loss improved from 0.87253 to 0.85800, saving model to saved_models/audio_classification.hdf5\n",
            "Epoch 84/100\n",
            "7/7 [==============================] - 0s 10ms/step - loss: 0.9784 - accuracy: 0.5488 - val_loss: 0.8499 - val_accuracy: 0.6071\n",
            "\n",
            "Epoch 00084: val_loss improved from 0.85800 to 0.84987, saving model to saved_models/audio_classification.hdf5\n",
            "Epoch 85/100\n",
            "7/7 [==============================] - 0s 9ms/step - loss: 0.9779 - accuracy: 0.5280 - val_loss: 0.8399 - val_accuracy: 0.6071\n",
            "\n",
            "Epoch 00085: val_loss improved from 0.84987 to 0.83991, saving model to saved_models/audio_classification.hdf5\n",
            "Epoch 86/100\n",
            "7/7 [==============================] - 0s 10ms/step - loss: 0.9708 - accuracy: 0.5373 - val_loss: 0.8326 - val_accuracy: 0.7679\n",
            "\n",
            "Epoch 00086: val_loss improved from 0.83991 to 0.83258, saving model to saved_models/audio_classification.hdf5\n",
            "Epoch 87/100\n",
            "7/7 [==============================] - 0s 11ms/step - loss: 0.9319 - accuracy: 0.5258 - val_loss: 0.8195 - val_accuracy: 0.6607\n",
            "\n",
            "Epoch 00087: val_loss improved from 0.83258 to 0.81947, saving model to saved_models/audio_classification.hdf5\n",
            "Epoch 88/100\n",
            "7/7 [==============================] - 0s 11ms/step - loss: 0.8853 - accuracy: 0.5933 - val_loss: 0.8118 - val_accuracy: 0.5714\n",
            "\n",
            "Epoch 00088: val_loss improved from 0.81947 to 0.81178, saving model to saved_models/audio_classification.hdf5\n",
            "Epoch 89/100\n",
            "7/7 [==============================] - 0s 12ms/step - loss: 0.9041 - accuracy: 0.6263 - val_loss: 0.8071 - val_accuracy: 0.5893\n",
            "\n",
            "Epoch 00089: val_loss improved from 0.81178 to 0.80705, saving model to saved_models/audio_classification.hdf5\n",
            "Epoch 90/100\n",
            "7/7 [==============================] - 0s 11ms/step - loss: 0.8623 - accuracy: 0.5842 - val_loss: 0.7940 - val_accuracy: 0.6250\n",
            "\n",
            "Epoch 00090: val_loss improved from 0.80705 to 0.79396, saving model to saved_models/audio_classification.hdf5\n",
            "Epoch 91/100\n",
            "7/7 [==============================] - 0s 11ms/step - loss: 0.8401 - accuracy: 0.5844 - val_loss: 0.7771 - val_accuracy: 0.8750\n",
            "\n",
            "Epoch 00091: val_loss improved from 0.79396 to 0.77713, saving model to saved_models/audio_classification.hdf5\n",
            "Epoch 92/100\n",
            "7/7 [==============================] - 0s 10ms/step - loss: 0.8433 - accuracy: 0.6051 - val_loss: 0.7666 - val_accuracy: 0.9107\n",
            "\n",
            "Epoch 00092: val_loss improved from 0.77713 to 0.76658, saving model to saved_models/audio_classification.hdf5\n",
            "Epoch 93/100\n",
            "7/7 [==============================] - 0s 10ms/step - loss: 0.8320 - accuracy: 0.6545 - val_loss: 0.7551 - val_accuracy: 0.8214\n",
            "\n",
            "Epoch 00093: val_loss improved from 0.76658 to 0.75506, saving model to saved_models/audio_classification.hdf5\n",
            "Epoch 94/100\n",
            "7/7 [==============================] - 0s 10ms/step - loss: 0.8632 - accuracy: 0.6001 - val_loss: 0.7403 - val_accuracy: 0.7679\n",
            "\n",
            "Epoch 00094: val_loss improved from 0.75506 to 0.74034, saving model to saved_models/audio_classification.hdf5\n",
            "Epoch 95/100\n",
            "7/7 [==============================] - 0s 10ms/step - loss: 0.8373 - accuracy: 0.6504 - val_loss: 0.7254 - val_accuracy: 0.7500\n",
            "\n",
            "Epoch 00095: val_loss improved from 0.74034 to 0.72538, saving model to saved_models/audio_classification.hdf5\n",
            "Epoch 96/100\n",
            "7/7 [==============================] - 0s 10ms/step - loss: 0.8788 - accuracy: 0.5990 - val_loss: 0.7118 - val_accuracy: 0.7679\n",
            "\n",
            "Epoch 00096: val_loss improved from 0.72538 to 0.71181, saving model to saved_models/audio_classification.hdf5\n",
            "Epoch 97/100\n",
            "7/7 [==============================] - 0s 11ms/step - loss: 0.7827 - accuracy: 0.6742 - val_loss: 0.7006 - val_accuracy: 0.7679\n",
            "\n",
            "Epoch 00097: val_loss improved from 0.71181 to 0.70056, saving model to saved_models/audio_classification.hdf5\n",
            "Epoch 98/100\n",
            "7/7 [==============================] - 0s 11ms/step - loss: 0.7033 - accuracy: 0.6556 - val_loss: 0.6819 - val_accuracy: 0.8750\n",
            "\n",
            "Epoch 00098: val_loss improved from 0.70056 to 0.68193, saving model to saved_models/audio_classification.hdf5\n",
            "Epoch 99/100\n",
            "7/7 [==============================] - 0s 11ms/step - loss: 0.7786 - accuracy: 0.5941 - val_loss: 0.6598 - val_accuracy: 0.7321\n",
            "\n",
            "Epoch 00099: val_loss improved from 0.68193 to 0.65978, saving model to saved_models/audio_classification.hdf5\n",
            "Epoch 100/100\n",
            "7/7 [==============================] - 0s 12ms/step - loss: 0.7735 - accuracy: 0.6553 - val_loss: 0.6425 - val_accuracy: 0.7679\n",
            "\n",
            "Epoch 00100: val_loss improved from 0.65978 to 0.64248, saving model to saved_models/audio_classification.hdf5\n",
            "Training completed in time:  0:00:10.401079\n"
          ],
          "name": "stdout"
        }
      ]
    },
    {
      "cell_type": "code",
      "metadata": {
        "colab": {
          "base_uri": "https://localhost:8080/"
        },
        "id": "xVuxbMJ67vEC",
        "outputId": "75fd2c73-4547-4458-fabb-2ca8e406c489"
      },
      "source": [
        "test_accuracy=model.evaluate(X_test,y_test,verbose=0)\n",
        "print(test_accuracy[1])"
      ],
      "execution_count": 32,
      "outputs": [
        {
          "output_type": "stream",
          "text": [
            "0.7678571343421936\n"
          ],
          "name": "stdout"
        }
      ]
    },
    {
      "cell_type": "code",
      "metadata": {
        "id": "hHBO1Y9z70Q1"
      },
      "source": [
        "y_predict = model.predict_classes(X_test)"
      ],
      "execution_count": 33,
      "outputs": []
    },
    {
      "cell_type": "code",
      "metadata": {
        "colab": {
          "base_uri": "https://localhost:8080/"
        },
        "id": "Pstza9U072SE",
        "outputId": "26074d7f-94ea-4de5-9340-c2c6cdbe90aa"
      },
      "source": [
        "filename=\"/content/drive/My Drive/Major/Dataset/test1.mp3\"\n",
        "audio, sample_rate = librosa.load(filename, res_type='kaiser_best') \n",
        "mfccs_features = librosa.feature.mfcc(y=audio, sr=sample_rate, n_mfcc=40)\n",
        "mfccs_scaled_features = np.mean(mfccs_features.T,axis=0)\n",
        "\n",
        "#print(mfccs_scaled_features)\n",
        "mfccs_scaled_features=mfccs_scaled_features.reshape(1,-1)\n",
        "#print(mfccs_scaled_features)\n",
        "#print(mfccs_scaled_features.shape)\n",
        "predicted_label=model.predict_classes(mfccs_scaled_features)\n",
        "print(predicted_label)\n",
        "prediction_class = labelencoder.inverse_transform(predicted_label) \n",
        "print(prediction_class)"
      ],
      "execution_count": 34,
      "outputs": [
        {
          "output_type": "stream",
          "text": [
            "[1]\n",
            "['Chiranjeevi_spoof']\n"
          ],
          "name": "stdout"
        }
      ]
    },
    {
      "cell_type": "code",
      "metadata": {
        "colab": {
          "base_uri": "https://localhost:8080/"
        },
        "id": "_EsG8MRxuxNH",
        "outputId": "4e3a3c10-cbac-4b1b-ef11-0894505e20f1"
      },
      "source": [
        "print(y_predict)"
      ],
      "execution_count": 35,
      "outputs": [
        {
          "output_type": "stream",
          "text": [
            "[3 0 3 2 3 0 2 2 1 0 2 1 0 2 0 3 3 0 0 0 1 1 2 2 1 2 0 0 3 0 0 0 2 3 0 0 0\n",
            " 2 3 1 3 3 1 0 1 0 3 2 0 1 0 1 0 0 0 2]\n"
          ],
          "name": "stdout"
        }
      ]
    },
    {
      "cell_type": "code",
      "metadata": {
        "id": "ue5xtWpHClPw"
      },
      "source": [
        ""
      ],
      "execution_count": 35,
      "outputs": []
    }
  ]
}